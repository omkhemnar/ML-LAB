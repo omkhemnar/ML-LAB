#import pandas

import pandas as pd

col_names = ['pregnant', 'glucose', 'bp', 'skin', 'insulin', 'bmi', 'pedigree', 'age', 'label']

# load dataset

pima = pd.read_csv("pima-indians-diabetes.csv", header=None, names=col_names)
pima.head()
#split dataset in features and target variable

feature_cols = ['pregnant', 'insulin', 'bmi', 'age','glucose','bp','pedigree']

X = pima[feature_cols] # Features

y = pima.label # Target variable
# split X and y into training and testing sets

from sklearn.model_selection import train_test_split



X_train, X_test, y_train, y_test = train_test_split(X, y, test_size=0.25, random_state=16)
# import the class

from sklearn.linear_model import LogisticRegression



# instantiate the model (using the default parameters)

logreg = LogisticRegression(random_state=16)



# fit the model with data

logreg.fit(X_train, y_train)



y_pred = logreg.predict(X_test)
# import the metrics class

from sklearn import metrics



cnf_matrix = metrics.confusion_matrix(y_test, y_pred)

cnf_matrix

from sklearn.metrics import classification_report

target_names = ['without diabetes', 'with diabetes']

print(classification_report(y_test, y_pred, target_names=target_names))
import numpy as np



import matplotlib.pyplot as plt



# Sigmoid function

def sigmoid(x):
    return 1 / (1 + np.exp(-x))

# Use different variable names to avoid conflict
X_sigmoid = np.linspace(-10, 10, 100)
y_sigmoid_curve = sigmoid(X_sigmoid)

plt.plot(X_sigmoid, y_sigmoid_curve)
plt.title("Sigmoid Curve")
plt.xlabel("x")
plt.ylabel("sigmoid(x)")
plt.grid(True)
plt.show()
import numpy as np

import seaborn as sns

import matplotlib.pyplot as plt

from sklearn.linear_model import LogisticRegression



logreg = LogisticRegression(max_iter=5000)

logreg.fit(X_train[['glucose']], y_train)



x_vals = np.linspace(X_train['glucose'].min(), X_train['glucose'].max(), 300).reshape(-1,1)

y_sigmoid = logreg.predict_proba(x_vals)[:,1]



sns.scatterplot(x=X_train['glucose'], y=y_train, color='red')

sns.lineplot(x=x_vals.flatten(), y=y_sigmoid, color='green')



plt.show()
